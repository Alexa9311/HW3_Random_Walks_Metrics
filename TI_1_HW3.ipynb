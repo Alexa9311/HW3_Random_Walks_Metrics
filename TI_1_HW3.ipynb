{
 "cells": [
  {
   "cell_type": "markdown",
   "metadata": {},
   "source": [
    "# Homework 03\n",
    "\n",
    "**Name:** Maria Alexa Ruiz Madero \n",
    "\n",
    "**e-mail:** maria.ruiz0744@alumnos.udg.mx\n",
    "\n",
    "\n"
   ]
  },
  {
   "cell_type": "markdown",
   "metadata": {},
   "source": [
    " ### MODULES"
   ]
  },
  {
   "cell_type": "code",
   "execution_count": 8,
   "metadata": {},
   "outputs": [],
   "source": [
    "# Load modules\n",
    "import numpy as np\n",
    "import plotly.graph_objects as go\n",
    "import scipy.stats as stats \n",
    "import matplotlib.pyplot as plt \n",
    "import pandas as pd"
   ]
  },
  {
   "cell_type": "markdown",
   "metadata": {},
   "source": [
    "# Classes"
   ]
  },
  {
   "cell_type": "code",
   "execution_count": 14,
   "metadata": {},
   "outputs": [],
   "source": [
    "class Vec2d:\n",
    "    def __init__(self,x,y):\n",
    "        self.x = x\n",
    "        self.y = y\n",
    "\n",
    "    def __add__(self, other):\n",
    "        return Vec2d(self.x + ohter.x, self.y + other.y)\n",
    "\n",
    "    def as_tuple(self):\n",
    "        return (self.x, self.y)"
   ]
  },
  {
   "cell_type": "markdown",
   "metadata": {},
   "source": [
    "# Activity 1: Path length - BM1 vs BM2 vs CRW"
   ]
  },
  {
   "cell_type": "code",
   "execution_count": 33,
   "metadata": {},
   "outputs": [],
   "source": [
    "def brownian_motion_df(steps=100):\n",
    "    trajectory = np.cumsum(np.random.randn(steps, 2), axis=0)\n",
    "    df = pd.DataFrame(trajectory, columns=[\"x\", \"y\"])\n",
    "    return df\n",
    "\n",
    "def correlated_random_walk_df(steps=100): \n",
    "    trajectory = np.zeros((steps,2))\n",
    "    position = Vec2d(0,0)\n",
    "    angle = np.random.uniform(0,2*np.pi)\n",
    "\n",
    "    for i in range (steps):\n",
    "        angle += stats.cauchy.rvs()\n",
    "        step = Vec2d(np.cos(angle), np.sin(angle))\n",
    "        position += step \n",
    "        trajectory[i] = position.as_tuple()\n",
    "\n",
    "    df = pd.DataFrame(trajectory, columns=[\"x\", \"y\"])\n",
    "    return df\n"
   ]
  },
  {
   "cell_type": "code",
   "execution_count": 28,
   "metadata": {},
   "outputs": [
    {
     "name": "stdout",
     "output_type": "stream",
     "text": [
      "          x         y\n",
      "0  1.577988 -0.788674\n",
      "1  0.771329 -0.359891\n",
      "2  2.045730  1.697209\n",
      "3  1.528003  2.295321\n",
      "4  2.904614  2.285114\n"
     ]
    }
   ],
   "source": [
    "    bm_df = brownian_motion_df()\n",
    "    print (bm_df.head())\n"
   ]
  },
  {
   "cell_type": "code",
   "execution_count": 34,
   "metadata": {},
   "outputs": [
    {
     "ename": "NameError",
     "evalue": "name 'ohter' is not defined",
     "output_type": "error",
     "traceback": [
      "\u001b[1;31m---------------------------------------------------------------------------\u001b[0m",
      "\u001b[1;31mNameError\u001b[0m                                 Traceback (most recent call last)",
      "Cell \u001b[1;32mIn[34], line 1\u001b[0m\n\u001b[1;32m----> 1\u001b[0m crw_df \u001b[38;5;241m=\u001b[39m \u001b[43mcorrelated_random_walk_df\u001b[49m\u001b[43m(\u001b[49m\u001b[43m)\u001b[49m\n\u001b[0;32m      2\u001b[0m \u001b[38;5;28mprint\u001b[39m (crw_df\u001b[38;5;241m.\u001b[39mhead())\n",
      "Cell \u001b[1;32mIn[33], line 14\u001b[0m, in \u001b[0;36mcorrelated_random_walk_df\u001b[1;34m(steps)\u001b[0m\n\u001b[0;32m     12\u001b[0m     angle \u001b[38;5;241m+\u001b[39m\u001b[38;5;241m=\u001b[39m stats\u001b[38;5;241m.\u001b[39mcauchy\u001b[38;5;241m.\u001b[39mrvs()\n\u001b[0;32m     13\u001b[0m     step \u001b[38;5;241m=\u001b[39m Vec2d(np\u001b[38;5;241m.\u001b[39mcos(angle), np\u001b[38;5;241m.\u001b[39msin(angle))\n\u001b[1;32m---> 14\u001b[0m     \u001b[43mposition\u001b[49m\u001b[43m \u001b[49m\u001b[38;5;241;43m+\u001b[39;49m\u001b[38;5;241;43m=\u001b[39;49m\u001b[43m \u001b[49m\u001b[43mstep\u001b[49m \n\u001b[0;32m     15\u001b[0m     trajectory[i] \u001b[38;5;241m=\u001b[39m position\u001b[38;5;241m.\u001b[39mas_tuple()\n\u001b[0;32m     17\u001b[0m df \u001b[38;5;241m=\u001b[39m pd\u001b[38;5;241m.\u001b[39mDataFrame(trajectory, columns\u001b[38;5;241m=\u001b[39m[\u001b[38;5;124m\"\u001b[39m\u001b[38;5;124mx\u001b[39m\u001b[38;5;124m\"\u001b[39m, \u001b[38;5;124m\"\u001b[39m\u001b[38;5;124my\u001b[39m\u001b[38;5;124m\"\u001b[39m])\n",
      "Cell \u001b[1;32mIn[14], line 7\u001b[0m, in \u001b[0;36mVec2d.__add__\u001b[1;34m(self, other)\u001b[0m\n\u001b[0;32m      6\u001b[0m \u001b[38;5;28;01mdef\u001b[39;00m\u001b[38;5;250m \u001b[39m\u001b[38;5;21m__add__\u001b[39m(\u001b[38;5;28mself\u001b[39m, other):\n\u001b[1;32m----> 7\u001b[0m     \u001b[38;5;28;01mreturn\u001b[39;00m Vec2d(\u001b[38;5;28mself\u001b[39m\u001b[38;5;241m.\u001b[39mx \u001b[38;5;241m+\u001b[39m \u001b[43mohter\u001b[49m\u001b[38;5;241m.\u001b[39mx, \u001b[38;5;28mself\u001b[39m\u001b[38;5;241m.\u001b[39my \u001b[38;5;241m+\u001b[39m other\u001b[38;5;241m.\u001b[39my)\n",
      "\u001b[1;31mNameError\u001b[0m: name 'ohter' is not defined"
     ]
    }
   ],
   "source": [
    "    crw_df = correlated_random_walk_df()\n",
    "    print (crw_df.head())\n",
    "    "
   ]
  },
  {
   "cell_type": "markdown",
   "metadata": {},
   "source": [
    "# Activity 2: Mean squared displacement - BM vs CRW "
   ]
  },
  {
   "cell_type": "code",
   "execution_count": 4,
   "metadata": {},
   "outputs": [],
   "source": [
    "# Gradient of funtion"
   ]
  },
  {
   "cell_type": "markdown",
   "metadata": {},
   "source": [
    "# Activity 3: Turning angle distribution - Histograms + Curves"
   ]
  },
  {
   "cell_type": "code",
   "execution_count": 5,
   "metadata": {},
   "outputs": [],
   "source": [
    "# Gradient descent algorithm"
   ]
  },
  {
   "cell_type": "markdown",
   "metadata": {},
   "source": [
    "# Activity 4: Step length distributions - Histograms + Curves "
   ]
  },
  {
   "cell_type": "code",
   "execution_count": 6,
   "metadata": {},
   "outputs": [],
   "source": [
    "# Plot funtion"
   ]
  },
  {
   "cell_type": "code",
   "execution_count": 7,
   "metadata": {},
   "outputs": [],
   "source": [
    "# Run gradient descent algorithm"
   ]
  }
 ],
 "metadata": {
  "kernelspec": {
   "display_name": "Python 3 (ipykernel)",
   "language": "python",
   "name": "python3"
  },
  "language_info": {
   "codemirror_mode": {
    "name": "ipython",
    "version": 3
   },
   "file_extension": ".py",
   "mimetype": "text/x-python",
   "name": "python",
   "nbconvert_exporter": "python",
   "pygments_lexer": "ipython3",
   "version": "3.13.1"
  }
 },
 "nbformat": 4,
 "nbformat_minor": 4
}
