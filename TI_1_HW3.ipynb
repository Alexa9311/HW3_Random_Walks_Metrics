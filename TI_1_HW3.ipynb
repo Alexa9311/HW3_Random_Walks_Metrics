{
 "cells": [
  {
   "cell_type": "markdown",
   "metadata": {},
   "source": [
    "# Homework 03\n",
    "\n",
    "**Name:** Maria Alexa Ruiz Madero \n",
    "\n",
    "**e-mail:** maria.ruiz0744@alumnos.udg.mx\n",
    "\n",
    "\n"
   ]
  },
  {
   "cell_type": "markdown",
   "metadata": {},
   "source": [
    " ### MODULES"
   ]
  },
  {
   "cell_type": "code",
   "execution_count": null,
   "metadata": {},
   "outputs": [],
   "source": [
    "# Load modules\n",
    "import numpy as np\n",
    "import math\n",
    "import plotly.graph_objects as go\n",
    "import matplotlib.pyplot as plt \n",
    "import pandas as pd"
   ]
  },
  {
   "cell_type": "markdown",
   "metadata": {},
   "source": [
    "# Classes"
   ]
  },
  {
   "cell_type": "code",
   "execution_count": null,
   "metadata": {},
   "outputs": [],
   "source": [
    "class Vec2d:\n",
    "    def __init__(self,x,y):\n",
    "        self.x = x\n",
    "        self.y = y\n",
    "\n",
    "    def __add__(self, other):\n",
    "        return Vec2d(self.x + other.x, self.y + other.y)\n",
    "\n",
    "    def as_tuple(self):\n",
    "        return (self.x, self.y)"
   ]
  },
  {
   "cell_type": "markdown",
   "metadata": {},
   "source": [
    "# Activity 1: Path length - BM1 vs BM2 vs CRW"
   ]
  },
  {
   "cell_type": "code",
   "execution_count": null,
   "metadata": {},
   "outputs": [],
   "source": [
    "#Load trajectories \n",
    "#BM speed = 3\n",
    "BM_2d_df_3 = pd.read_csv('trajectories/brownian_3.csv')\n",
    "\n",
    "#Load trajectories \n",
    "#BM speed = 6\n",
    "BM_2d_df_6 = pd.read_csv('trajectories/brownian_6.csv')\n",
    "\n",
    "#Load trajectories \n",
    "CRW_2d_df_9 = pd.read_csv('trajectories/crw_6_9.csv')"
   ]
  },
  {
   "cell_type": "code",
   "execution_count": null,
   "metadata": {},
   "outputs": [],
   "source": [
    "BM_2d_df_6.shape[0]"
   ]
  },
  {
   "cell_type": "code",
   "execution_count": null,
   "metadata": {},
   "outputs": [],
   "source": [
    "#Funcition to calculate the cumulative length \n",
    "def calculate_path_length(df): \n",
    "    dx = np.diff(df['x_pos'])\n",
    "    dy = np.diff(df['y_pos'])\n",
    "    distances = np.sqrt(dx**2 + dy**2)\n",
    "    return np.cumsum(distances)\n",
    "    \n",
    "#Calculate cumulative length\n",
    "pl_BM_3 = calculate_path_length(BM_2d_df_3)\n",
    "pl_BM_6 = calculate_path_length(BM_2d_df_6)\n",
    "pl_CRW = calculate_path_length(CRW_2d_df_9)    \n"
   ]
  },
  {
   "cell_type": "code",
   "execution_count": null,
   "metadata": {},
   "outputs": [],
   "source": [
    "#Create figure"
   ]
  },
  {
   "cell_type": "code",
   "execution_count": 52,
   "metadata": {},
   "outputs": [
    {
     "ename": "NameError",
     "evalue": "name 'fig_path_length' is not defined",
     "output_type": "error",
     "traceback": [
      "\u001b[1;31m---------------------------------------------------------------------------\u001b[0m",
      "\u001b[1;31mNameError\u001b[0m                                 Traceback (most recent call last)",
      "Cell \u001b[1;32mIn[52], line 2\u001b[0m\n\u001b[0;32m      1\u001b[0m \u001b[38;5;66;03m#Create figure\u001b[39;00m\n\u001b[1;32m----> 2\u001b[0m \u001b[43mfig_path_length\u001b[49m\u001b[38;5;241m.\u001b[39madd_trace(go\u001b[38;5;241m.\u001b[39mScatter(\n\u001b[0;32m      3\u001b[0m     x\u001b[38;5;241m=\u001b[39mnp\u001b[38;5;241m.\u001b[39marange(\u001b[38;5;28mlen\u001b[39m(pl_BM_3)),\n\u001b[0;32m      4\u001b[0m     y\u001b[38;5;241m=\u001b[39mpl_BM_3,\n\u001b[0;32m      5\u001b[0m     marker\u001b[38;5;241m=\u001b[39m\u001b[38;5;28mdict\u001b[39m(size\u001b[38;5;241m=\u001b[39m\u001b[38;5;241m2\u001b[39m),\n\u001b[0;32m      6\u001b[0m     line\u001b[38;5;241m=\u001b[39m\u001b[38;5;28mdict\u001b[39m(width\u001b[38;5;241m=\u001b[39m\u001b[38;5;241m2\u001b[39m),\n\u001b[0;32m      7\u001b[0m     mode\u001b[38;5;241m=\u001b[39m\u001b[38;5;124m'\u001b[39m\u001b[38;5;124mlines\u001b[39m\u001b[38;5;124m'\u001b[39m,\n\u001b[0;32m      8\u001b[0m     name\u001b[38;5;241m=\u001b[39m\u001b[38;5;124m'\u001b[39m\u001b[38;5;124mPath Length BM3\u001b[39m\u001b[38;5;124m'\u001b[39m,\n\u001b[0;32m      9\u001b[0m     showlegend\u001b[38;5;241m=\u001b[39m\u001b[38;5;28;01mTrue\u001b[39;00m\n\u001b[0;32m     10\u001b[0m ))\n",
      "\u001b[1;31mNameError\u001b[0m: name 'fig_path_length' is not defined"
     ]
    }
   ],
   "source": [
    "#Gr\n",
    "\n",
    "fig_path_length.add_trace(go.Scatter(\n",
    "    x=np.arange(len(pl_BM_3)),\n",
    "    y=pl_BM_3,\n",
    "    marker=dict(size=2),\n",
    "    line=dict(width=2),\n",
    "    mode='lines',\n",
    "    name='Path Length BM3',\n",
    "    showlegend=True\n",
    "))"
   ]
  },
  {
   "cell_type": "code",
   "execution_count": null,
   "metadata": {},
   "outputs": [],
   "source": [
    "    bm_df = brownian_motion_df()\n",
    "    print (bm_df.head())\n"
   ]
  },
  {
   "cell_type": "code",
   "execution_count": null,
   "metadata": {},
   "outputs": [],
   "source": [
    "    crw_df = correlated_random_walk_df()\n",
    "    print (crw_df.head())\n",
    "    "
   ]
  },
  {
   "cell_type": "markdown",
   "metadata": {},
   "source": [
    "# Activity 2: Mean squared displacement - BM vs CRW "
   ]
  },
  {
   "cell_type": "code",
   "execution_count": null,
   "metadata": {},
   "outputs": [],
   "source": [
    "# Gradient of funtion"
   ]
  },
  {
   "cell_type": "markdown",
   "metadata": {},
   "source": [
    "# Activity 3: Turning angle distribution - Histograms + Curves"
   ]
  },
  {
   "cell_type": "code",
   "execution_count": null,
   "metadata": {},
   "outputs": [],
   "source": [
    "# Gradient descent algorithm"
   ]
  },
  {
   "cell_type": "markdown",
   "metadata": {},
   "source": [
    "# Activity 4: Step length distributions - Histograms + Curves "
   ]
  },
  {
   "cell_type": "code",
   "execution_count": null,
   "metadata": {},
   "outputs": [],
   "source": [
    "# Plot funtion"
   ]
  },
  {
   "cell_type": "code",
   "execution_count": null,
   "metadata": {},
   "outputs": [],
   "source": [
    "# Run gradient descent algorithm"
   ]
  }
 ],
 "metadata": {
  "kernelspec": {
   "display_name": "Python 3 (ipykernel)",
   "language": "python",
   "name": "python3"
  },
  "language_info": {
   "codemirror_mode": {
    "name": "ipython",
    "version": 3
   },
   "file_extension": ".py",
   "mimetype": "text/x-python",
   "name": "python",
   "nbconvert_exporter": "python",
   "pygments_lexer": "ipython3",
   "version": "3.13.1"
  }
 },
 "nbformat": 4,
 "nbformat_minor": 4
}
